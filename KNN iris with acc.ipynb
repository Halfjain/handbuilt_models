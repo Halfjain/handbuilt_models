{
 "cells": [
  {
   "cell_type": "code",
   "execution_count": 26,
   "metadata": {},
   "outputs": [],
   "source": [
    "import numpy as np\n",
    "import scipy.spatial\n",
    "from collections import Counter\n",
    "from libsvm.svmutil import svm_read_problem\n",
    "from sklearn.model_selection import train_test_split"
   ]
  },
  {
   "cell_type": "code",
   "execution_count": 27,
   "metadata": {},
   "outputs": [],
   "source": [
    "y_raw, x_raw = svm_read_problem('iris.scale.txt')"
   ]
  },
  {
   "cell_type": "code",
   "execution_count": 28,
   "metadata": {},
   "outputs": [],
   "source": [
    "y = np.array(y_raw)\n",
    "x = np.zeros((len(y_raw), 4))\n",
    "for i in range(len(y_raw)):\n",
    "    line = x_raw[i]\n",
    "    for k, v in line.items():\n",
    "        x[i][k - 1] = v"
   ]
  },
  {
   "cell_type": "code",
   "execution_count": 29,
   "metadata": {},
   "outputs": [],
   "source": [
    "X_train, X_test, y_train, y_test = train_test_split(x, y, test_size = 0.2)"
   ]
  },
  {
   "cell_type": "code",
   "execution_count": null,
   "metadata": {},
   "outputs": [],
   "source": []
  },
  {
   "cell_type": "code",
   "execution_count": 39,
   "metadata": {},
   "outputs": [],
   "source": [
    "class KNN:\n",
    "    def __init__(self, k):\n",
    "        self.k = k\n",
    "        \n",
    "    def fit(self, X, Y):\n",
    "        self.x_train = X\n",
    "        self.y_train = Y\n",
    "    \n",
    "    def distance(self, X1, X2):\n",
    "        distance = scipy.spatial.distance.euclidean(X1, X2)\n",
    "        \n",
    "    def predict(self, x_test):\n",
    "        final_output = []\n",
    "        for i in range(len(x_test)):\n",
    "            d = []\n",
    "            votes = []\n",
    "            for j in range(len(x_train)):\n",
    "                dist = scipy.spatial.distance.euclidean(x_train[j] , x_test[i])\n",
    "                d.append([dist, j])\n",
    "            d.sort()\n",
    "            d = d[0:self.k]\n",
    "            for d, j in d:\n",
    "                votes.append(y_train[j])\n",
    "            ans = Counter(votes).most_common(1)[0][0]\n",
    "            final_output.append(ans)\n",
    "            \n",
    "        return final_output\n",
    "    \n",
    "    def score(self, x_test, y_test):\n",
    "        predictions = self.predict(x_test)\n",
    "        return (predictions == y_test).sum() / len(y_test)\n",
    "\n",
    "    "
   ]
  },
  {
   "cell_type": "code",
   "execution_count": 55,
   "metadata": {},
   "outputs": [
    {
     "name": "stdout",
     "output_type": "stream",
     "text": [
      "3.0 2.0 1.0 3.0 2.0 2.0 2.0 3.0 1.0 1.0 1.0 3.0 2.0 1.0 2.0 1.0 1.0 2.0 2.0 2.0 1.0 1.0 1.0 3.0 1.0 2.0 1.0 1.0 1.0 2.0 "
     ]
    }
   ],
   "source": [
    "clf = KNN (5)\n",
    "clf.fit (x_train, y_train)\n",
    "prediction = clf.predict(x_test)\n",
    "\n",
    "for i in prediction:\n",
    "    print(i, end = ' ')"
   ]
  },
  {
   "cell_type": "code",
   "execution_count": 56,
   "metadata": {},
   "outputs": [
    {
     "data": {
      "text/plain": [
       "array([ True, False, False, False, False, False,  True, False,  True,\n",
       "        True, False,  True, False,  True, False,  True,  True, False,\n",
       "        True, False, False, False, False, False, False,  True,  True,\n",
       "        True, False, False])"
      ]
     },
     "execution_count": 56,
     "metadata": {},
     "output_type": "execute_result"
    }
   ],
   "source": [
    "prediction == y_test"
   ]
  },
  {
   "cell_type": "code",
   "execution_count": 57,
   "metadata": {},
   "outputs": [
    {
     "name": "stdout",
     "output_type": "stream",
     "text": [
      "accuracy 40.0 %\n"
     ]
    }
   ],
   "source": [
    "acc = np.sum(prediction == y_test) / len(y_test)\n",
    "\n",
    "print(\"accuracy\", acc * 100, \"%\")"
   ]
  },
  {
   "cell_type": "code",
   "execution_count": null,
   "metadata": {},
   "outputs": [],
   "source": []
  },
  {
   "cell_type": "code",
   "execution_count": null,
   "metadata": {},
   "outputs": [],
   "source": []
  }
 ],
 "metadata": {
  "kernelspec": {
   "display_name": "Python 3",
   "language": "python",
   "name": "python3"
  },
  "language_info": {
   "codemirror_mode": {
    "name": "ipython",
    "version": 3
   },
   "file_extension": ".py",
   "mimetype": "text/x-python",
   "name": "python",
   "nbconvert_exporter": "python",
   "pygments_lexer": "ipython3",
   "version": "3.8.8"
  }
 },
 "nbformat": 4,
 "nbformat_minor": 2
}
