{
 "cells": [
  {
   "cell_type": "code",
   "execution_count": 27,
   "metadata": {},
   "outputs": [],
   "source": [
    "import numpy as np\n",
    "import matplotlib\n",
    "import matplotlib.pyplot as plt\n",
    "from libsvm.svmutil import svm_read_problem\n",
    "from sklearn.model_selection import train_test_split"
   ]
  },
  {
   "cell_type": "code",
   "execution_count": 28,
   "metadata": {},
   "outputs": [],
   "source": [
    "class Perceptron():\n",
    "\n",
    "    def __init__(self, alpha=0.2, n_iter=100):\n",
    "        self.alpha = alpha\n",
    "        self.n_iter = n_iter\n",
    "\n",
    "    def fit(self, X, y):\n",
    "        self.w = np.zeros(X.shape[1])\n",
    "        self.b = 0\n",
    "        self.errors_ = []\n",
    "        for _ in range(self.n_iter):\n",
    "            errors = 0\n",
    "            for xi, yi in zip(X, y):\n",
    "                update = self.alpha * (yi - self.predict(xi))\n",
    "                self.w += update * xi\n",
    "                self.b += update\n",
    "                errors += int(update != 0.0)\n",
    "\n",
    "            if errors == 0:\n",
    "                break\n",
    "            self.errors_.append(errors)\n",
    "\n",
    "        return self\n",
    "\n",
    "\n",
    "    def predict(self, xi):\n",
    "        return np.where(np.dot(xi, self.w) + self.b <= 0.0, -1, 1)\n",
    "\n",
    "    def predict_iris(self, xi):\n",
    "        result = np.dot(xi, self.w) + self.b\n",
    "        return np.where(result <= 0.0, -1, result)"
   ]
  },
  {
   "cell_type": "code",
   "execution_count": 29,
   "metadata": {},
   "outputs": [],
   "source": [
    "y_raw, x_raw = svm_read_problem('a4a.txt')\n",
    "dataset = np.zeros((len(y_raw), 123))"
   ]
  },
  {
   "cell_type": "code",
   "execution_count": 30,
   "metadata": {},
   "outputs": [],
   "source": [
    "for i in range(len(y_raw)):\n",
    "    line = x_raw[i]\n",
    "    for k, v in line.items():\n",
    "        dataset[i][k - 1] = v\n"
   ]
  },
  {
   "cell_type": "code",
   "execution_count": 31,
   "metadata": {},
   "outputs": [],
   "source": [
    "y = np.array(y_raw)"
   ]
  },
  {
   "cell_type": "code",
   "execution_count": 32,
   "metadata": {},
   "outputs": [
    {
     "data": {
      "text/plain": [
       "<__main__.Perceptron at 0x7fb07c5b75d0>"
      ]
     },
     "execution_count": 32,
     "metadata": {},
     "output_type": "execute_result"
    }
   ],
   "source": [
    "perceptron = Perceptron(0.2, 1000)\n",
    "perceptron.fit(dataset, y)"
   ]
  },
  {
   "cell_type": "code",
   "execution_count": 33,
   "metadata": {},
   "outputs": [],
   "source": [
    "y_test, x_test = svm_read_problem('a4a.t')\n",
    "dataset_test = np.zeros((len(y_test), 123))"
   ]
  },
  {
   "cell_type": "code",
   "execution_count": 34,
   "metadata": {},
   "outputs": [],
   "source": [
    "for i in range(len(y_test)):\n",
    "    line = x_test[i]\n",
    "    for k, v in line.items():\n",
    "        dataset_test[i][k - 1] = v"
   ]
  },
  {
   "cell_type": "code",
   "execution_count": 35,
   "metadata": {},
   "outputs": [],
   "source": [
    "y_test = np.array(y_test)"
   ]
  },
  {
   "cell_type": "code",
   "execution_count": 36,
   "metadata": {},
   "outputs": [],
   "source": [
    "predicted = np.zeros(len(y_test))\n",
    "for i in range(len(y_test)):\n",
    "    predicted[i] = perceptron.predict(dataset_test[i])"
   ]
  },
  {
   "cell_type": "code",
   "execution_count": 37,
   "metadata": {},
   "outputs": [
    {
     "name": "stdout",
     "output_type": "stream",
     "text": [
      "a4a\n",
      "27780 test case predicted.\n",
      "22160 are correct.\n",
      "Accuracy = 80.0%\n"
     ]
    }
   ],
   "source": [
    "print('a4a')\n",
    "print(len(predicted), ' test case predicted.', sep='')\n",
    "correct_num = np.sum(predicted == y_test)\n",
    "print(correct_num, ' are correct.', sep='')\n",
    "print('Accuracy = ', np.round(correct_num * 100 / len(predicted)), '%', sep='')"
   ]
  },
  {
   "cell_type": "code",
   "execution_count": 38,
   "metadata": {},
   "outputs": [
    {
     "data": {
      "image/png": "[encoded data removed]",
      "text/plain": [
       "<Figure size 432x288 with 1 Axes>"
      ]
     },
     "metadata": {
      "needs_background": "light"
     },
     "output_type": "display_data"
    }
   ],
   "source": [
    "weights = perceptron.w\n",
    "top_index = np.argsort(-np.abs(weights))[:20]\n",
    "plt.figure()\n",
    "plt.bar(list(map(str,top_index)), weights[top_index])\n",
    "plt.xlabel('Feature Number')\n",
    "plt.ylabel('Weight')\n",
    "plt.title('Top 20 Weights in a4a Dataset')\n",
    "plt.show(block=False)"
   ]
  },
  {
   "cell_type": "markdown",
   "metadata": {},
   "source": [
    "##IRIS"
   ]
  },
  {
   "cell_type": "code",
   "execution_count": 39,
   "metadata": {},
   "outputs": [],
   "source": [
    "y_raw, x_raw = svm_read_problem('iris.scale.txt')\n",
    "\n",
    "y = np.array(y_raw)\n",
    "x = np.zeros((len(y_raw), 4))\n",
    "for i in range(len(y_raw)):\n",
    "    line = x_raw[i]\n",
    "    for k, v in line.items():\n",
    "        x[i][k - 1] = v"
   ]
  },
  {
   "cell_type": "code",
   "execution_count": 40,
   "metadata": {},
   "outputs": [],
   "source": [
    "x_train, x_test, y_train, y_test = train_test_split(x, y, test_size=0.3)"
   ]
  },
  {
   "cell_type": "code",
   "execution_count": 41,
   "metadata": {},
   "outputs": [],
   "source": [
    "y_train1 = np.copy(y_train)\n",
    "y_train1[y_train1!=1] = -1\n",
    "y_train1[y_train1!=-1] = 1"
   ]
  },
  {
   "cell_type": "code",
   "execution_count": 42,
   "metadata": {},
   "outputs": [],
   "source": [
    "y_train2 = np.copy(y_train)\n",
    "y_train2[y_train2!=2] = -1\n",
    "y_train2[y_train2!=-1] = 1"
   ]
  },
  {
   "cell_type": "code",
   "execution_count": 43,
   "metadata": {},
   "outputs": [],
   "source": [
    "y_train3 = np.copy(y_train)\n",
    "y_train3[y_train3!=3] = -1\n",
    "y_train3[y_train3!=-1] = 1"
   ]
  },
  {
   "cell_type": "code",
   "execution_count": 44,
   "metadata": {},
   "outputs": [
    {
     "data": {
      "text/plain": [
       "<__main__.Perceptron at 0x7fb078353bd0>"
      ]
     },
     "execution_count": 44,
     "metadata": {},
     "output_type": "execute_result"
    }
   ],
   "source": [
    "perceptron_iris1 = Perceptron(0.2, 1000)\n",
    "perceptron_iris1.fit(x_train, y_train1)\n",
    "perceptron_iris2 = Perceptron(0.2, 1000)\n",
    "perceptron_iris2.fit(x_train, y_train2)\n",
    "perceptron_iris3 = Perceptron(0.2, 1000)\n",
    "perceptron_iris3.fit(x_train, y_train3)"
   ]
  },
  {
   "cell_type": "code",
   "execution_count": 45,
   "metadata": {},
   "outputs": [],
   "source": [
    "predicted = np.zeros(len(y_test))\n",
    "for i in range(len(y_test)):\n",
    "    pred = np.zeros(3)\n",
    "    pred[0] = perceptron_iris1.predict(x_test[i])\n",
    "    pred[1] = perceptron_iris2.predict(x_test[i])\n",
    "    pred[2] = perceptron_iris3.predict(x_test[i])\n",
    "    predicted[i] = np.argmax(pred) + 1"
   ]
  },
  {
   "cell_type": "code",
   "execution_count": 50,
   "metadata": {
    "scrolled": true
   },
   "outputs": [
    {
     "name": "stdout",
     "output_type": "stream",
     "text": [
      "iris\n",
      "45 test case predicted.\n",
      "33 are correct.\n",
      "Accuracy = 73.0%\n"
     ]
    }
   ],
   "source": [
    "print('iris')\n",
    "print(len(predicted), ' test cases predicted.', sep='')\n",
    "correct_num = np.sum(predicted == y_test)\n",
    "print(correct_num, ' correct.', sep='')\n",
    "print('Accuracy = ', np.round(correct_num * 100 / len(predicted)), '%', sep='')"
   ]
  },
  {
   "cell_type": "markdown",
   "metadata": {},
   "source": []
  },
  {
   "cell_type": "code",
   "execution_count": 47,
   "metadata": {},
   "outputs": [
    {
     "data": {
      "image/png": "[encoded data removed]",
      "text/plain": [
       "<Figure size 432x288 with 1 Axes>"
      ]
     },
     "metadata": {
      "needs_background": "light"
     },
     "output_type": "display_data"
    }
   ],
   "source": [
    "weights = perceptron_iris1.w\n",
    "top_index = np.argsort(-np.abs(weights))\n",
    "plt.figure()\n",
    "plt.bar(list(map(str,top_index)), weights[top_index])\n",
    "plt.xlabel('Feature Number')\n",
    "plt.ylabel('Weight')\n",
    "plt.title('Weights in iris Dataset (Class 1)')\n",
    "plt.show(block=False)"
   ]
  },
  {
   "cell_type": "code",
   "execution_count": 48,
   "metadata": {},
   "outputs": [
    {
     "data": {
      "image/png": "[encoded data removed]",
      "text/plain": [
       "<Figure size 432x288 with 1 Axes>"
      ]
     },
     "metadata": {
      "needs_background": "light"
     },
     "output_type": "display_data"
    }
   ],
   "source": [
    "weights = perceptron_iris2.w\n",
    "top_index = np.argsort(-np.abs(weights))\n",
    "plt.figure()\n",
    "plt.bar(list(map(str,top_index)), weights[top_index])\n",
    "plt.xlabel('Feature Number')\n",
    "plt.ylabel('Weight')\n",
    "plt.title('Weights in a4a Dataset (Class 2)')\n",
    "plt.show(block=False)"
   ]
  },
  {
   "cell_type": "code",
   "execution_count": 49,
   "metadata": {},
   "outputs": [
    {
     "data": {
      "image/png": "[encoded data removed]",
      "text/plain": [
       "<Figure size 432x288 with 1 Axes>"
      ]
     },
     "metadata": {
      "needs_background": "light"
     },
     "output_type": "display_data"
    }
   ],
   "source": [
    "weights = perceptron_iris3.w\n",
    "top_index = np.argsort(-np.abs(weights))\n",
    "plt.figure()\n",
    "plt.bar(list(map(str,top_index)), weights[top_index])\n",
    "plt.xlabel('Feature Number')\n",
    "plt.ylabel('Weight')\n",
    "plt.title('Weights in a4a Dataset (Class 3)')\n",
    "plt.show()"
   ]
  },
  {
   "cell_type": "code",
   "execution_count": null,
   "metadata": {},
   "outputs": [],
   "source": []
  }
 ],
 "metadata": {
  "kernelspec": {
   "display_name": "Python 3",
   "language": "python",
   "name": "python3"
  },
  "language_info": {
   "codemirror_mode": {
    "name": "ipython",
    "version": 3
   },
   "file_extension": ".py",
   "mimetype": "text/x-python",
   "name": "python",
   "nbconvert_exporter": "python",
   "pygments_lexer": "ipython3",
   "version": "3.7.4"
  }
 },
 "nbformat": 4,
 "nbformat_minor": 2
}
